{
 "cells": [
  {
   "cell_type": "code",
   "execution_count": 86,
   "id": "8f2b8260",
   "metadata": {},
   "outputs": [],
   "source": [
    "##Importing all of the Libraries and Components Needed\n",
    "## from https://machinelearningmastery.com/machine-learning-in-python-step-by-step/\n",
    "import pandas as pd\n",
    "import numpy as np\n",
    "\n",
    "from pandas import read_csv\n",
    "from pandas.plotting import scatter_matrix\n",
    "from matplotlib import pyplot\n",
    "from sklearn.model_selection import train_test_split\n",
    "from sklearn.model_selection import cross_val_score\n",
    "from sklearn.model_selection import StratifiedKFold\n",
    "from sklearn.model_selection import KFold\n",
    "from sklearn.metrics import classification_report\n",
    "from sklearn.metrics import confusion_matrix\n",
    "from sklearn.metrics import accuracy_score\n",
    "from sklearn.linear_model import LogisticRegression\n",
    "from sklearn.linear_model import LinearRegression\n",
    "from sklearn.tree import DecisionTreeClassifier\n",
    "from sklearn.neighbors import KNeighborsClassifier\n",
    "from sklearn.discriminant_analysis import LinearDiscriminantAnalysis\n",
    "from sklearn.naive_bayes import GaussianNB\n",
    "from sklearn.svm import SVC"
   ]
  },
  {
   "cell_type": "code",
   "execution_count": 87,
   "id": "b84c7452",
   "metadata": {},
   "outputs": [],
   "source": [
    "##Import data that has been downloaded\n",
    "\n",
    "# Defines the location of the  file\n",
    "file_location = \"C:\\\\Users\\\\Maggie\\\\Documents\\\\Python Scripts for NLP Work\\\\readability5 domain chg.xlsx\"\n",
    "\n",
    "# Read the tsv/txt file\n",
    "tests_df = pd.read_excel(file_location)"
   ]
  },
  {
   "cell_type": "code",
   "execution_count": 88,
   "id": "0022f731",
   "metadata": {},
   "outputs": [
    {
     "name": "stdout",
     "output_type": "stream",
     "text": [
      "<class 'pandas.core.frame.DataFrame'>\n",
      "RangeIndex: 1627 entries, 0 to 1626\n",
      "Data columns (total 60 columns):\n",
      " #   Column                      Non-Null Count  Dtype  \n",
      "---  ------                      --------------  -----  \n",
      " 0   Unnamed: 0                  1627 non-null   int64  \n",
      " 1   state                       1627 non-null   object \n",
      " 2   year                        1546 non-null   float64\n",
      " 3   grade                       1627 non-null   int64  \n",
      " 4   domain                      1627 non-null   object \n",
      " 5   standard                    1437 non-null   object \n",
      " 6   pvalue                      1627 non-null   float64\n",
      " 7   hasPic                      1627 non-null   int64  \n",
      " 8   questionStem                1627 non-null   object \n",
      " 9   a                           1627 non-null   object \n",
      " 10  b                           1627 non-null   object \n",
      " 11  c                           1627 non-null   object \n",
      " 12  d                           1627 non-null   object \n",
      " 13  e                           1627 non-null   object \n",
      " 14  completeq                   1627 non-null   object \n",
      " 15  id                          1627 non-null   int64  \n",
      " 16  CC                          1627 non-null   int64  \n",
      " 17  CD                          1627 non-null   int64  \n",
      " 18  DT                          1627 non-null   int64  \n",
      " 19  EX                          1627 non-null   int64  \n",
      " 20  FW                          1627 non-null   int64  \n",
      " 21  IN                          1627 non-null   int64  \n",
      " 22  JJ                          1627 non-null   int64  \n",
      " 23  JJR                         1627 non-null   int64  \n",
      " 24  JJS                         1627 non-null   int64  \n",
      " 25  LS                          1627 non-null   int64  \n",
      " 26  MD                          1627 non-null   int64  \n",
      " 27  NN                          1627 non-null   int64  \n",
      " 28  NNS                         1627 non-null   int64  \n",
      " 29  NNP                         1627 non-null   int64  \n",
      " 30  NNPS                        1627 non-null   int64  \n",
      " 31  PDT                         1627 non-null   int64  \n",
      " 32  POS                         1627 non-null   int64  \n",
      " 33  PRP                         1627 non-null   int64  \n",
      " 34  PRP$                        1627 non-null   int64  \n",
      " 35  RB                          1627 non-null   int64  \n",
      " 36  RBR                         1627 non-null   int64  \n",
      " 37  RBS                         1627 non-null   int64  \n",
      " 38  RP                          1627 non-null   int64  \n",
      " 39  SYM                         1627 non-null   int64  \n",
      " 40  TO                          1627 non-null   int64  \n",
      " 41  UH                          1627 non-null   int64  \n",
      " 42  VB                          1627 non-null   int64  \n",
      " 43  VBD                         1627 non-null   int64  \n",
      " 44  VBG                         1627 non-null   int64  \n",
      " 45  VBN                         1627 non-null   int64  \n",
      " 46  VBP                         1627 non-null   int64  \n",
      " 47  VBZ                         1627 non-null   int64  \n",
      " 48  WDT                         1627 non-null   int64  \n",
      " 49  WP                          1627 non-null   int64  \n",
      " 50  WP$                         1627 non-null   int64  \n",
      " 51  WRB                         1627 non-null   int64  \n",
      " 52  $                           1627 non-null   int64  \n",
      " 53  ,                           1627 non-null   int64  \n",
      " 54  :                           1627 non-null   int64  \n",
      " 55  word_count                  1627 non-null   int64  \n",
      " 56  readability_flesch_kincaid  1627 non-null   float64\n",
      " 57  acedemic_polysemous_count   1627 non-null   int64  \n",
      " 58  acedemic_polysemous_words   1244 non-null   object \n",
      " 59  pos_tags                    1627 non-null   object \n",
      "dtypes: float64(3), int64(45), object(12)\n",
      "memory usage: 762.8+ KB\n"
     ]
    }
   ],
   "source": [
    "##Block of Code for Descriptive Statistics\n",
    "\n",
    "#shape\n",
    "# print(tests_df.shape)\n",
    "\n",
    "#head\n",
    "# print(tests_df.head(20))\n",
    "\n",
    "tests_df.info()"
   ]
  },
  {
   "cell_type": "code",
   "execution_count": 89,
   "id": "bd75583c",
   "metadata": {},
   "outputs": [
    {
     "name": "stdout",
     "output_type": "stream",
     "text": [
      "        Unnamed: 0         year        grade       pvalue       hasPic  \\\n",
      "count  1627.000000  1546.000000  1627.000000  1627.000000  1627.000000   \n",
      "mean   2478.655808  2016.437904     5.664413     0.593146     0.348494   \n",
      "std     923.184772     2.171683     1.728633     0.158400     0.476640   \n",
      "min    1006.000000  2009.000000     3.000000     0.120000     0.000000   \n",
      "25%    1676.500000  2016.000000     4.000000     0.480000     0.000000   \n",
      "50%    2636.000000  2017.000000     6.000000     0.590000     0.000000   \n",
      "75%    3042.500000  2018.000000     7.000000     0.710000     1.000000   \n",
      "max    3988.000000  2019.000000     8.000000     0.950000     1.000000   \n",
      "\n",
      "                id           CC           CD           DT           EX  ...  \\\n",
      "count  1627.000000  1627.000000  1627.000000  1627.000000  1627.000000  ...   \n",
      "mean   2780.039951     0.733866     8.569760     5.200983     0.074370  ...   \n",
      "std    1046.699483     1.404124     6.193022     4.524722     0.433812  ...   \n",
      "min     522.000000     0.000000     0.000000     0.000000     0.000000  ...   \n",
      "25%    2048.500000     0.000000     5.000000     2.000000     0.000000  ...   \n",
      "50%    3285.000000     0.000000     7.000000     4.000000     0.000000  ...   \n",
      "75%    3696.500000     1.000000    11.000000     7.000000     0.000000  ...   \n",
      "max    4106.000000    14.000000    69.000000    35.000000     6.000000  ...   \n",
      "\n",
      "               WDT           WP          WP$          WRB            $  \\\n",
      "count  1627.000000  1627.000000  1627.000000  1627.000000  1627.000000   \n",
      "mean      0.669330     0.370621     0.001229     0.216349     0.161033   \n",
      "std       0.701474     0.521090     0.035050     0.502053     0.705718   \n",
      "min       0.000000     0.000000     0.000000     0.000000     0.000000   \n",
      "25%       0.000000     0.000000     0.000000     0.000000     0.000000   \n",
      "50%       1.000000     0.000000     0.000000     0.000000     0.000000   \n",
      "75%       1.000000     1.000000     0.000000     0.000000     0.000000   \n",
      "max       8.000000     3.000000     1.000000     4.000000    10.000000   \n",
      "\n",
      "                 ,            :   word_count  readability_flesch_kincaid  \\\n",
      "count  1627.000000  1627.000000  1627.000000                 1627.000000   \n",
      "mean      1.237246     0.133989    36.144438                    4.442459   \n",
      "std       2.551851     0.857924    24.197489                    2.790704   \n",
      "min       0.000000     0.000000     0.000000                    0.000000   \n",
      "25%       0.000000     0.000000    19.000000                    2.434452   \n",
      "50%       0.000000     0.000000    32.000000                    4.198571   \n",
      "75%       2.000000     0.000000    46.000000                    6.010000   \n",
      "max      35.000000    14.000000   205.000000                   20.200000   \n",
      "\n",
      "       acedemic_polysemous_count  \n",
      "count                1627.000000  \n",
      "mean                    2.227412  \n",
      "std                     2.816209  \n",
      "min                     0.000000  \n",
      "25%                     1.000000  \n",
      "50%                     1.000000  \n",
      "75%                     3.000000  \n",
      "max                    25.000000  \n",
      "\n",
      "[8 rows x 48 columns]\n"
     ]
    }
   ],
   "source": [
    "#descriptions\n",
    "print(tests_df.describe())"
   ]
  },
  {
   "cell_type": "code",
   "execution_count": 90,
   "id": "0bee5eeb",
   "metadata": {},
   "outputs": [],
   "source": [
    "def update_pvalue_group(row):\n",
    "    pvalue = row['pvalue']\n",
    "    \n",
    "    if pvalue <= 0.48:\n",
    "        row['pvalue'] = 0\n",
    "    elif pvalue <= 0.71:\n",
    "        row['pvalue'] = 1\n",
    "    else:\n",
    "        row['pvalue'] = 2\n",
    "    \n",
    "    return row\n",
    "\n",
    "tests_df = tests_df.apply(lambda row: update_pvalue_group(row), axis=1)"
   ]
  },
  {
   "cell_type": "code",
   "execution_count": 92,
   "id": "38385645",
   "metadata": {},
   "outputs": [
    {
     "name": "stdout",
     "output_type": "stream",
     "text": [
      "<class 'pandas.core.frame.DataFrame'>\n",
      "RangeIndex: 1627 entries, 0 to 1626\n",
      "Data columns (total 45 columns):\n",
      " #   Column                      Non-Null Count  Dtype  \n",
      "---  ------                      --------------  -----  \n",
      " 0   grade                       1627 non-null   int64  \n",
      " 1   domain                      1627 non-null   object \n",
      " 2   id                          1627 non-null   int64  \n",
      " 3   CC                          1627 non-null   int64  \n",
      " 4   CD                          1627 non-null   int64  \n",
      " 5   DT                          1627 non-null   int64  \n",
      " 6   EX                          1627 non-null   int64  \n",
      " 7   FW                          1627 non-null   int64  \n",
      " 8   IN                          1627 non-null   int64  \n",
      " 9   JJ                          1627 non-null   int64  \n",
      " 10  JJR                         1627 non-null   int64  \n",
      " 11  JJS                         1627 non-null   int64  \n",
      " 12  LS                          1627 non-null   int64  \n",
      " 13  MD                          1627 non-null   int64  \n",
      " 14  NN                          1627 non-null   int64  \n",
      " 15  NNS                         1627 non-null   int64  \n",
      " 16  NNP                         1627 non-null   int64  \n",
      " 17  NNPS                        1627 non-null   int64  \n",
      " 18  PDT                         1627 non-null   int64  \n",
      " 19  POS                         1627 non-null   int64  \n",
      " 20  PRP                         1627 non-null   int64  \n",
      " 21  PRP$                        1627 non-null   int64  \n",
      " 22  RB                          1627 non-null   int64  \n",
      " 23  RBR                         1627 non-null   int64  \n",
      " 24  RBS                         1627 non-null   int64  \n",
      " 25  RP                          1627 non-null   int64  \n",
      " 26  SYM                         1627 non-null   int64  \n",
      " 27  TO                          1627 non-null   int64  \n",
      " 28  UH                          1627 non-null   int64  \n",
      " 29  VB                          1627 non-null   int64  \n",
      " 30  VBD                         1627 non-null   int64  \n",
      " 31  VBG                         1627 non-null   int64  \n",
      " 32  VBN                         1627 non-null   int64  \n",
      " 33  VBP                         1627 non-null   int64  \n",
      " 34  VBZ                         1627 non-null   int64  \n",
      " 35  WDT                         1627 non-null   int64  \n",
      " 36  WP                          1627 non-null   int64  \n",
      " 37  WP$                         1627 non-null   int64  \n",
      " 38  WRB                         1627 non-null   int64  \n",
      " 39  $                           1627 non-null   int64  \n",
      " 40  ,                           1627 non-null   int64  \n",
      " 41  :                           1627 non-null   int64  \n",
      " 42  word_count                  1627 non-null   int64  \n",
      " 43  readability_flesch_kincaid  1627 non-null   float64\n",
      " 44  acedemic_polysemous_count   1627 non-null   int64  \n",
      "dtypes: float64(1), int64(43), object(1)\n",
      "memory usage: 572.1+ KB\n"
     ]
    }
   ],
   "source": [
    "##Validation Part 1 Dataset Code\n",
    "\n",
    "y_df = tests_df['pvalue']\n",
    "\n",
    "#code to drop any columns that don't make sense [id]\n",
    "X_df2 = tests_df.drop(columns = ['pos_tags', 'Unnamed: 0', 'pvalue', 'state', 'hasPic', 'year', 'standard', 'questionStem' , 'a', 'b', 'c', 'd', 'e', 'completeq', 'acedemic_polysemous_words'])\n",
    "\n",
    "#, 'pvalue'\n",
    "\n",
    "#head\n",
    "\n",
    "X_df2.info()\n"
   ]
  },
  {
   "cell_type": "code",
   "execution_count": 93,
   "id": "4094ee1d",
   "metadata": {},
   "outputs": [
    {
     "data": {
      "text/plain": [
       "[array(['Algebra', 'Expressions and Equations', 'Functions', 'Geometry',\n",
       "        'Measurement and Data', 'Number and Operations - Fractions',\n",
       "        'Number and Operations in Base Ten',\n",
       "        'Operations and Algebraic Thinking',\n",
       "        'Ratios and Proportional Relationships',\n",
       "        'Statistics and Probability', 'The Number System'], dtype=object)]"
      ]
     },
     "execution_count": 93,
     "metadata": {},
     "output_type": "execute_result"
    }
   ],
   "source": [
    "from numpy import asarray\n",
    "from sklearn.preprocessing import OneHotEncoder\n",
    "\n",
    "domain_val = X_df2[[\"domain\"]]\n",
    "\n",
    "# define ordinal encoding\n",
    "domain_encoder = OneHotEncoder()\n",
    "# transform data\n",
    "domain_result = domain_encoder.fit_transform(domain_val)\n",
    "domain_encoder.categories_"
   ]
  },
  {
   "cell_type": "code",
   "execution_count": 94,
   "id": "f95b7e99",
   "metadata": {},
   "outputs": [
    {
     "name": "stdout",
     "output_type": "stream",
     "text": [
      "<class 'pandas.core.frame.DataFrame'>\n",
      "RangeIndex: 1627 entries, 0 to 1626\n",
      "Data columns (total 11 columns):\n",
      " #   Column                                 Non-Null Count  Dtype  \n",
      "---  ------                                 --------------  -----  \n",
      " 0   Algebra                                1627 non-null   float64\n",
      " 1   Expressions and Equations              1627 non-null   float64\n",
      " 2   Functions                              1627 non-null   float64\n",
      " 3   Geometry                               1627 non-null   float64\n",
      " 4   Measurement and Data                   1627 non-null   float64\n",
      " 5   Number and Operations - Fractions      1627 non-null   float64\n",
      " 6   Number and Operations in Base Ten      1627 non-null   float64\n",
      " 7   Operations and Algebraic Thinking      1627 non-null   float64\n",
      " 8   Ratios and Proportional Relationships  1627 non-null   float64\n",
      " 9   Statistics and Probability             1627 non-null   float64\n",
      " 10  The Number System                      1627 non-null   float64\n",
      "dtypes: float64(11)\n",
      "memory usage: 139.9 KB\n"
     ]
    }
   ],
   "source": [
    "domain_cols = ['Algebra', 'Expressions and Equations', 'Functions', 'Geometry',\n",
    "              'Measurement and Data', 'Number and Operations - Fractions',\n",
    "              'Number and Operations in Base Ten',\n",
    "              'Operations and Algebraic Thinking',\n",
    "              'Ratios and Proportional Relationships',\n",
    "              'Statistics and Probability', 'The Number System']\n",
    "\n",
    "domain_df2 = pd.DataFrame(domain_result.toarray(), columns=domain_encoder.categories_[0])\n",
    "domain_df2 = domain_df2[domain_cols]\n",
    "domain_df2.info()"
   ]
  },
  {
   "cell_type": "code",
   "execution_count": 95,
   "id": "97885c1c",
   "metadata": {},
   "outputs": [],
   "source": [
    "X_df2 = X_df2.drop(columns = ['domain'])"
   ]
  },
  {
   "cell_type": "code",
   "execution_count": 96,
   "id": "b70eb522",
   "metadata": {},
   "outputs": [
    {
     "name": "stdout",
     "output_type": "stream",
     "text": [
      "<class 'pandas.core.frame.DataFrame'>\n",
      "RangeIndex: 1627 entries, 0 to 1626\n",
      "Data columns (total 55 columns):\n",
      " #   Column                                 Non-Null Count  Dtype  \n",
      "---  ------                                 --------------  -----  \n",
      " 0   grade                                  1627 non-null   int64  \n",
      " 1   id                                     1627 non-null   int64  \n",
      " 2   CC                                     1627 non-null   int64  \n",
      " 3   CD                                     1627 non-null   int64  \n",
      " 4   DT                                     1627 non-null   int64  \n",
      " 5   EX                                     1627 non-null   int64  \n",
      " 6   FW                                     1627 non-null   int64  \n",
      " 7   IN                                     1627 non-null   int64  \n",
      " 8   JJ                                     1627 non-null   int64  \n",
      " 9   JJR                                    1627 non-null   int64  \n",
      " 10  JJS                                    1627 non-null   int64  \n",
      " 11  LS                                     1627 non-null   int64  \n",
      " 12  MD                                     1627 non-null   int64  \n",
      " 13  NN                                     1627 non-null   int64  \n",
      " 14  NNS                                    1627 non-null   int64  \n",
      " 15  NNP                                    1627 non-null   int64  \n",
      " 16  NNPS                                   1627 non-null   int64  \n",
      " 17  PDT                                    1627 non-null   int64  \n",
      " 18  POS                                    1627 non-null   int64  \n",
      " 19  PRP                                    1627 non-null   int64  \n",
      " 20  PRP$                                   1627 non-null   int64  \n",
      " 21  RB                                     1627 non-null   int64  \n",
      " 22  RBR                                    1627 non-null   int64  \n",
      " 23  RBS                                    1627 non-null   int64  \n",
      " 24  RP                                     1627 non-null   int64  \n",
      " 25  SYM                                    1627 non-null   int64  \n",
      " 26  TO                                     1627 non-null   int64  \n",
      " 27  UH                                     1627 non-null   int64  \n",
      " 28  VB                                     1627 non-null   int64  \n",
      " 29  VBD                                    1627 non-null   int64  \n",
      " 30  VBG                                    1627 non-null   int64  \n",
      " 31  VBN                                    1627 non-null   int64  \n",
      " 32  VBP                                    1627 non-null   int64  \n",
      " 33  VBZ                                    1627 non-null   int64  \n",
      " 34  WDT                                    1627 non-null   int64  \n",
      " 35  WP                                     1627 non-null   int64  \n",
      " 36  WP$                                    1627 non-null   int64  \n",
      " 37  WRB                                    1627 non-null   int64  \n",
      " 38  $                                      1627 non-null   int64  \n",
      " 39  ,                                      1627 non-null   int64  \n",
      " 40  :                                      1627 non-null   int64  \n",
      " 41  word_count                             1627 non-null   int64  \n",
      " 42  readability_flesch_kincaid             1627 non-null   float64\n",
      " 43  acedemic_polysemous_count              1627 non-null   int64  \n",
      " 44  Algebra                                1627 non-null   float64\n",
      " 45  Expressions and Equations              1627 non-null   float64\n",
      " 46  Functions                              1627 non-null   float64\n",
      " 47  Geometry                               1627 non-null   float64\n",
      " 48  Measurement and Data                   1627 non-null   float64\n",
      " 49  Number and Operations - Fractions      1627 non-null   float64\n",
      " 50  Number and Operations in Base Ten      1627 non-null   float64\n",
      " 51  Operations and Algebraic Thinking      1627 non-null   float64\n",
      " 52  Ratios and Proportional Relationships  1627 non-null   float64\n",
      " 53  Statistics and Probability             1627 non-null   float64\n",
      " 54  The Number System                      1627 non-null   float64\n",
      "dtypes: float64(12), int64(43)\n",
      "memory usage: 699.2 KB\n"
     ]
    }
   ],
   "source": [
    "X_df2 = X_df2.join(domain_df2)\n",
    "X_df2.info()"
   ]
  },
  {
   "cell_type": "code",
   "execution_count": 97,
   "id": "574942ca",
   "metadata": {},
   "outputs": [
    {
     "name": "stdout",
     "output_type": "stream",
     "text": [
      "1\n"
     ]
    }
   ],
   "source": [
    "\n",
    "## Split-out validation dataset\n",
    "\n",
    "#change to any range of columns that are in the model\n",
    "X = X_df2.values\n",
    "#change to y variable column index\n",
    "y = y_df.astype(np.uint8).values\n",
    "#adjust the 'test size' argument to change the amount that is kept out for evaluation\n",
    "X_train, X_test, y_train, y_test = train_test_split(X, y, test_size=0.20, random_state=1, stratify=y)\n",
    "\n",
    "print(y.ndim)"
   ]
  },
  {
   "cell_type": "code",
   "execution_count": 98,
   "id": "deb1bc45",
   "metadata": {},
   "outputs": [
    {
     "data": {
      "text/plain": [
       "array([2, 0, 1], dtype=int64)"
      ]
     },
     "execution_count": 98,
     "metadata": {},
     "output_type": "execute_result"
    }
   ],
   "source": [
    "y_df.unique()"
   ]
  },
  {
   "cell_type": "code",
   "execution_count": 99,
   "id": "bfca2930",
   "metadata": {},
   "outputs": [],
   "source": [
    "from sklearn.preprocessing import StandardScaler\n",
    "\n",
    "scaler = StandardScaler()\n",
    "X_train_scaled = scaler.fit_transform(X_train.astype(np.float64))\n",
    "X_test_scaled = scaler.fit_transform(X_test.astype(np.float64))"
   ]
  },
  {
   "cell_type": "code",
   "execution_count": 100,
   "id": "7ea7e582",
   "metadata": {},
   "outputs": [],
   "source": [
    "def display_scores(scores):\n",
    "    print(\"Scores:\", scores)\n",
    "    print(\"Mean:\", scores.mean())\n",
    "    print(\"Standard deviation:\", scores.std())"
   ]
  },
  {
   "cell_type": "code",
   "execution_count": 36,
   "id": "3317ad6e",
   "metadata": {},
   "outputs": [
    {
     "data": {
      "text/plain": [
       "array([1, 0, 2, 1, 0, 1, 1, 0, 1, 0], dtype=uint8)"
      ]
     },
     "execution_count": 36,
     "metadata": {},
     "output_type": "execute_result"
    }
   ],
   "source": [
    "X_selected = X_test_scaled[:10]\n",
    "y_selected = y_test[:10]\n",
    "y_selected"
   ]
  },
  {
   "cell_type": "code",
   "execution_count": 101,
   "id": "6f233a38",
   "metadata": {
    "scrolled": true
   },
   "outputs": [
    {
     "name": "stdout",
     "output_type": "stream",
     "text": [
      "looking at model: RFR\n",
      "0.49275983558426306\n",
      "looking at model: LR\n",
      "0.47506752789195533\n",
      "looking at model: LDA\n",
      "0.46889019377569\n",
      "looking at model: KNN\n",
      "0.43889019377569005\n",
      "looking at model: CART\n",
      "0.39811509101585435\n",
      "looking at model: NB\n",
      "0.2728479154433353\n",
      "looking at model: SVM\n",
      "0.4965825014679976\n"
     ]
    },
    {
     "data": {
      "image/png": "[encoded data removed]",
      "text/plain": [
       "<Figure size 432x288 with 1 Axes>"
      ]
     },
     "metadata": {
      "needs_background": "light"
     },
     "output_type": "display_data"
    }
   ],
   "source": [
    "##Testing out the 6 models\n",
    "\n",
    "# Spot Check Algorithms\n",
    "models = []\n",
    "#models.append(('LR', LogisticRegression(solver='liblinear', multi_class='ovr')))\n",
    "# models.append(('LR', LinearRegression()))\n",
    "# models.append(('DTR', DecisionTreeRegressor()))\n",
    "models.append(('RFR', RandomForestClassifier(max_depth=2, random_state=0)))\n",
    "models.append(('LR', LogisticRegression(random_state=42, max_iter=10000)))\n",
    "models.append(('LDA', LinearDiscriminantAnalysis()))\n",
    "models.append(('KNN', KNeighborsClassifier(n_neighbors=3)))\n",
    "models.append(('CART', DecisionTreeClassifier()))\n",
    "models.append(('NB', GaussianNB()))\n",
    "models.append(('SVM', SVC(gamma='auto', random_state=42, max_iter=10000)))\n",
    "\n",
    "\n",
    "# evaluate each model in turn\n",
    "results = []\n",
    "names = []\n",
    "for name, model in models:\n",
    "    print(f'looking at model: {name}')\n",
    "    kfold = KFold(n_splits=10, random_state=1, shuffle=True)\n",
    "    cv_results = cross_val_score(model, X_train_scaled, y_train, cv=kfold, scoring='accuracy')\n",
    "    #rmse = np.sqrt(-cv_results)\n",
    "    results.append(cv_results)\n",
    "    names.append(name)\n",
    "    print(f'{np.mean(cv_results)}')\n",
    "    \n",
    "\n",
    "# Visual to Compare Algorithms\n",
    "pyplot.boxplot(results, labels=names)\n",
    "pyplot.title('Algorithm Comparison')\n",
    "pyplot.show()\n"
   ]
  },
  {
   "cell_type": "code",
   "execution_count": 102,
   "id": "e8142a41",
   "metadata": {},
   "outputs": [
    {
     "name": "stdout",
     "output_type": "stream",
     "text": [
      "0.49693251533742333\n",
      "[[  2  81   4]\n",
      " [  6 148   7]\n",
      " [  2  64  12]]\n",
      "              precision    recall  f1-score   support\n",
      "\n",
      "           0       0.20      0.02      0.04        87\n",
      "           1       0.51      0.92      0.65       161\n",
      "           2       0.52      0.15      0.24        78\n",
      "\n",
      "    accuracy                           0.50       326\n",
      "   macro avg       0.41      0.37      0.31       326\n",
      "weighted avg       0.43      0.50      0.39       326\n",
      "\n"
     ]
    }
   ],
   "source": [
    "##Raw code to make predictions (once we know which model was best - this one has SVC, a kind of SVM)\n",
    "\n",
    "# Make predictions on validation dataset\n",
    "model1 = SVC(gamma='auto', random_state=42, max_iter=10000)\n",
    "model1.fit(X_train_scaled, y_train)\n",
    "predictions = model1.predict(X_test_scaled)\n",
    "\n",
    "# Evaluate predictions\n",
    "print(accuracy_score(y_test, predictions))\n",
    "print(confusion_matrix(y_test, predictions))\n",
    "print(classification_report(y_test, predictions))"
   ]
  },
  {
   "cell_type": "code",
   "execution_count": 104,
   "id": "4987b18b",
   "metadata": {},
   "outputs": [
    {
     "name": "stdout",
     "output_type": "stream",
     "text": [
      "0.49884704073789393\n",
      "[[ 23 308  17]\n",
      " [ 12 598  31]\n",
      " [  6 278  28]]\n",
      "              precision    recall  f1-score   support\n",
      "\n",
      "           0       0.56      0.07      0.12       348\n",
      "           1       0.51      0.93      0.66       641\n",
      "           2       0.37      0.09      0.14       312\n",
      "\n",
      "    accuracy                           0.50      1301\n",
      "   macro avg       0.48      0.36      0.31      1301\n",
      "weighted avg       0.49      0.50      0.39      1301\n",
      "\n"
     ]
    }
   ],
   "source": [
    "##Code to make cross-validated predictions (once we know which model was best - this one has SVC, a kind of SVM)\n",
    "\n",
    "# Make predictions on validation dataset\n",
    "model1 = SVC(gamma='auto', random_state=42, max_iter=10000)\n",
    "model1.fit(X_train_scaled, y_train)\n",
    "predictions = model1.predict(X_test_scaled)\n",
    "\n",
    "cvpred2 = cross_val_predict(model1, X_train_scaled, y_train, cv=10)\n",
    "\n",
    "# Evaluate predictions\n",
    "print(accuracy_score(y_train, cvpred2))\n",
    "print(confusion_matrix(y_train, cvpred2))\n",
    "print(classification_report(y_train, cvpred2))"
   ]
  },
  {
   "cell_type": "code",
   "execution_count": 50,
   "id": "ac7f8116",
   "metadata": {},
   "outputs": [],
   "source": [
    "model = SVC(gamma='auto')"
   ]
  },
  {
   "cell_type": "code",
   "execution_count": 51,
   "id": "ca89136e",
   "metadata": {},
   "outputs": [
    {
     "data": {
      "text/plain": [
       "SVC(gamma='auto')"
      ]
     },
     "execution_count": 51,
     "metadata": {},
     "output_type": "execute_result"
    }
   ],
   "source": [
    "model.fit(X_train_scaled, y_train)"
   ]
  },
  {
   "cell_type": "code",
   "execution_count": 41,
   "id": "a8860086",
   "metadata": {},
   "outputs": [],
   "source": [
    "import pickle\n",
    "\n",
    "filename = 'p_value_svc_2.pickle'\n",
    "pickle.dump(model, open(filename, 'wb'))"
   ]
  },
  {
   "cell_type": "code",
   "execution_count": null,
   "id": "80a31a97",
   "metadata": {},
   "outputs": [],
   "source": []
  }
 ],
 "metadata": {
  "kernelspec": {
   "display_name": "Python 3 (ipykernel)",
   "language": "python",
   "name": "python3"
  },
  "language_info": {
   "codemirror_mode": {
    "name": "ipython",
    "version": 3
   },
   "file_extension": ".py",
   "mimetype": "text/x-python",
   "name": "python",
   "nbconvert_exporter": "python",
   "pygments_lexer": "ipython3",
   "version": "3.9.7"
  }
 },
 "nbformat": 4,
 "nbformat_minor": 5
}
